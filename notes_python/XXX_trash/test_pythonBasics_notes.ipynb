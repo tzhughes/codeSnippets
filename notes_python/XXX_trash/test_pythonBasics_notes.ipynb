# Test case 1: Counting 'g' in the string
assert mydict['g'] == 2

# Test case 2: Inserting an item at a specific position in the list
assert mylist == [1, 2, 3, 4, 5, 5.5, 6, 7, 8, 9, 10]

# Test case 3: Testing the 'somefunction' function
assert somefunction("wonderful") == "woul"

# Test case 4: Testing the 'mixString' function
assert mixString("abc", "xyz") == "xyc abz"

# Test case 5: Testing the 'dofunStuff' function
assert dofunStuff("string") == "stringly"
assert dofunStuff("df") == "dfing"
assert dofunStuff("going") == "goingly"
assert dofunStuff("some") == "someing"

# Test case 6: Reversing a string
assert reverse_string("0123456789") == "9876543210"

# Test case 7: Removing HTML tags from a string
assert remove_html_tags("<p>Hello, <b>world</b>!</p>") == "Hello, world!"