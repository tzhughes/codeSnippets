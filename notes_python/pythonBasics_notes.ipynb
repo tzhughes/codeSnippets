{
 "cells": [
  {
   "cell_type": "code",
   "execution_count": 7,
   "metadata": {},
   "outputs": [
    {
     "name": "stdout",
     "output_type": "stream",
     "text": [
      "3\n",
      "2\n"
     ]
    },
    {
     "ename": "AssertionError",
     "evalue": "",
     "output_type": "error",
     "traceback": [
      "\u001b[0;31m---------------------------------------------------------------------------\u001b[0m",
      "\u001b[0;31mAssertionError\u001b[0m                            Traceback (most recent call last)",
      "\u001b[0;32m<ipython-input-7-a2fdfe65a376>\u001b[0m in \u001b[0;36m<module>\u001b[0;34m\u001b[0m\n\u001b[1;32m     23\u001b[0m     \u001b[0;32massert\u001b[0m \u001b[0mcount_occurrences\u001b[0m\u001b[0;34m(\u001b[0m\u001b[0;34m[\u001b[0m\u001b[0;34m'a'\u001b[0m\u001b[0;34m]\u001b[0m\u001b[0;34m,\u001b[0m \u001b[0;34m'b'\u001b[0m\u001b[0;34m)\u001b[0m \u001b[0;34m==\u001b[0m \u001b[0;36m0\u001b[0m\u001b[0;34m\u001b[0m\u001b[0;34m\u001b[0m\u001b[0m\n\u001b[1;32m     24\u001b[0m \u001b[0;34m\u001b[0m\u001b[0m\n\u001b[0;32m---> 25\u001b[0;31m \u001b[0mprint\u001b[0m\u001b[0;34m(\u001b[0m\u001b[0mtest_count_occurrences\u001b[0m\u001b[0;34m(\u001b[0m\u001b[0;34m)\u001b[0m\u001b[0;34m)\u001b[0m\u001b[0;34m\u001b[0m\u001b[0;34m\u001b[0m\u001b[0m\n\u001b[0m",
      "\u001b[0;32m<ipython-input-7-a2fdfe65a376>\u001b[0m in \u001b[0;36mtest_count_occurrences\u001b[0;34m()\u001b[0m\n\u001b[1;32m     16\u001b[0m \u001b[0;32mdef\u001b[0m \u001b[0mtest_count_occurrences\u001b[0m\u001b[0;34m(\u001b[0m\u001b[0;34m)\u001b[0m\u001b[0;34m:\u001b[0m\u001b[0;34m\u001b[0m\u001b[0;34m\u001b[0m\u001b[0m\n\u001b[1;32m     17\u001b[0m     \u001b[0;32massert\u001b[0m \u001b[0mcount_occurrences\u001b[0m\u001b[0;34m(\u001b[0m\u001b[0;34m[\u001b[0m\u001b[0;34m'a'\u001b[0m\u001b[0;34m,\u001b[0m \u001b[0;34m'b'\u001b[0m\u001b[0;34m,\u001b[0m \u001b[0;34m'c'\u001b[0m\u001b[0;34m,\u001b[0m \u001b[0;34m'a'\u001b[0m\u001b[0;34m]\u001b[0m\u001b[0;34m,\u001b[0m \u001b[0;34m'a'\u001b[0m\u001b[0;34m)\u001b[0m \u001b[0;34m==\u001b[0m \u001b[0;36m2\u001b[0m\u001b[0;34m\u001b[0m\u001b[0;34m\u001b[0m\u001b[0m\n\u001b[0;32m---> 18\u001b[0;31m     \u001b[0;32massert\u001b[0m \u001b[0mcount_occurrences\u001b[0m\u001b[0;34m(\u001b[0m\u001b[0;34m[\u001b[0m\u001b[0;34m'a'\u001b[0m\u001b[0;34m,\u001b[0m \u001b[0;34m'b'\u001b[0m\u001b[0;34m,\u001b[0m \u001b[0;34m'c'\u001b[0m\u001b[0;34m,\u001b[0m \u001b[0;34m'a'\u001b[0m\u001b[0;34m]\u001b[0m\u001b[0;34m,\u001b[0m \u001b[0;34m'b'\u001b[0m\u001b[0;34m)\u001b[0m \u001b[0;34m==\u001b[0m \u001b[0;36m0\u001b[0m\u001b[0;34m\u001b[0m\u001b[0;34m\u001b[0m\u001b[0m\n\u001b[0m\u001b[1;32m     19\u001b[0m     \u001b[0;32massert\u001b[0m \u001b[0mcount_occurrences\u001b[0m\u001b[0;34m(\u001b[0m\u001b[0;34m[\u001b[0m\u001b[0;34m'a'\u001b[0m\u001b[0;34m,\u001b[0m \u001b[0;34m'b'\u001b[0m\u001b[0;34m,\u001b[0m \u001b[0;34m'c'\u001b[0m\u001b[0;34m,\u001b[0m \u001b[0;34m'a'\u001b[0m\u001b[0;34m]\u001b[0m\u001b[0;34m,\u001b[0m \u001b[0;34m'c'\u001b[0m\u001b[0;34m)\u001b[0m \u001b[0;34m==\u001b[0m \u001b[0;36m1\u001b[0m\u001b[0;34m\u001b[0m\u001b[0;34m\u001b[0m\u001b[0m\n\u001b[1;32m     20\u001b[0m     \u001b[0;32massert\u001b[0m \u001b[0mcount_occurrences\u001b[0m\u001b[0;34m(\u001b[0m\u001b[0;34m[\u001b[0m\u001b[0;34m'a'\u001b[0m\u001b[0;34m,\u001b[0m \u001b[0;34m'b'\u001b[0m\u001b[0;34m,\u001b[0m \u001b[0;34m'c'\u001b[0m\u001b[0;34m,\u001b[0m \u001b[0;34m'a'\u001b[0m\u001b[0;34m]\u001b[0m\u001b[0;34m,\u001b[0m \u001b[0;34m'd'\u001b[0m\u001b[0;34m)\u001b[0m \u001b[0;34m==\u001b[0m \u001b[0;36m0\u001b[0m\u001b[0;34m\u001b[0m\u001b[0;34m\u001b[0m\u001b[0m\n",
      "\u001b[0;31mAssertionError\u001b[0m: "
     ]
    }
   ],
   "source": [
    "\n",
    "# A function that will count the number of occurrences of a string in a list of strings\n",
    "def count_occurrences(elements, target):\n",
    "    count = 0\n",
    "    for element in elements:\n",
    "        if element == target:\n",
    "            count += 1\n",
    "    return count\n",
    "\n",
    "print(count_occurrences(['a', 'b', 'c', 'a'], 'a'))\n",
    "\n",
    "\n",
    "# Basic unit tests for the count_occurrences function\n",
    "def test_count_occurrences():\n",
    "    assert count_occurrences(['a', 'b', 'c', 'a'], 'a') == 2\n",
    "    assert count_occurrences(['a', 'b', 'c', 'a'], 'b') == 0\n",
    "    assert count_occurrences(['a', 'b', 'c', 'a'], 'c') == 1\n",
    "    assert count_occurrences(['a', 'b', 'c', 'a'], 'd') == 0\n",
    "    assert count_occurrences([], 'a') == 0\n",
    "    assert count_occurrences(['a'], 'a') == 1\n",
    "    assert count_occurrences(['a'], 'b') == 0\n",
    "\n",
    "print(test_count_occurrences())\n",
    "    \n",
    "\n",
    "    ##"
   ]
  },
  {
   "cell_type": "markdown",
   "metadata": {},
   "source": [
    "# open a file from disk\n"
   ]
  },
  {
   "cell_type": "markdown",
   "metadata": {},
   "source": []
  },
  {
   "cell_type": "code",
   "execution_count": null,
   "metadata": {},
   "outputs": [],
   "source": [
    "# "
   ]
  },
  {
   "cell_type": "code",
   "execution_count": null,
   "metadata": {},
   "outputs": [],
   "source": []
  },
  {
   "cell_type": "code",
   "execution_count": null,
   "metadata": {},
   "outputs": [],
   "source": [
    "number_list = [10, 20, 30, 40, 50, 60, 70, 80, 90, 100]\n",
    "\n",
    "for nb in number_list:\n",
    "    if nb > 50:\n",
    "        number_list.remove(nb)\n"
   ]
  },
  {
   "cell_type": "code",
   "execution_count": 22,
   "metadata": {},
   "outputs": [
    {
     "name": "stdout",
     "output_type": "stream",
     "text": [
      "yaivePNT\n"
     ]
    }
   ],
   "source": [
    "str1 = \"PyNaTive\"\n",
    "lower = \"\"\n",
    "upper = \"\"\n",
    "for letter in str1:\n",
    "    if letter.islower():\n",
    "        lower += letter\n",
    "    else:\n",
    "        upper += letter\n",
    "print(\"\".join(lower + upper))\n"
   ]
  },
  {
   "cell_type": "code",
   "execution_count": 25,
   "metadata": {},
   "outputs": [
    {
     "name": "stdout",
     "output_type": "stream",
     "text": [
      "dfsdfdsxxxxx\n"
     ]
    }
   ],
   "source": [
    "print(\"\".join([\"dfsdfds\",\"xxxxx\"]))"
   ]
  },
  {
   "cell_type": "code",
   "execution_count": 30,
   "metadata": {},
   "outputs": [
    {
     "name": "stdout",
     "output_type": "stream",
     "text": [
      "None\n",
      "0\n"
     ]
    }
   ],
   "source": [
    "#print(\"dfsdfdsfds\".append(\"x\"))\n",
    "\n",
    "print([\"dsdfsd\", \"dddd\"].append(\"ttttt\"))\n",
    "test = False\n",
    "value = 1 if test else 0\n",
    "print(value)"
   ]
  },
  {
   "cell_type": "code",
   "execution_count": 39,
   "metadata": {},
   "outputs": [
    {
     "name": "stdout",
     "output_type": "stream",
     "text": [
      "5\n",
      "[3, 4, 5]\n",
      "[1, 2, 3, 4, 5, 6]\n",
      "dsdfdfX\n"
     ]
    }
   ],
   "source": [
    "values = [1, 2, 3, 4, 5];\n",
    "\n",
    "print(len(values))\n",
    "\n",
    "print([value for value in values if value > 2])\n",
    "values.append(6)\n",
    "print(values)\n",
    "\n",
    "str = \"dsdfdf\"\n",
    "str+=\"X\"\n",
    "print(str)"
   ]
  },
  {
   "cell_type": "code",
   "execution_count": 41,
   "metadata": {},
   "outputs": [
    {
     "name": "stdout",
     "output_type": "stream",
     "text": [
      "1.0\n"
     ]
    }
   ],
   "source": [
    "nb = float(1)\n",
    "print(nb)"
   ]
  },
  {
   "cell_type": "code",
   "execution_count": 43,
   "metadata": {},
   "outputs": [
    {
     "name": "stdout",
     "output_type": "stream",
     "text": [
      "4\n"
     ]
    }
   ],
   "source": [
    "import random\n",
    "p = random.randint(1, 10)\n",
    "print(p)\n",
    "\n",
    "# generate 10 random numbers between 1 and 100\n",
    "random_numbers = random.sample(range(1, 100), 10)\n",
    "\n",
    "# generate 10 random numbers from a normal distribution with mean 5 and standard deviation 2\n",
    "random_numbers = [random.gauss(5, 2) for _ in range(10)]"
   ]
  },
  {
   "cell_type": "code",
   "execution_count": 47,
   "metadata": {},
   "outputs": [
    {
     "name": "stdout",
     "output_type": "stream",
     "text": [
      "1\n",
      "2\n",
      "3\n",
      "4\n",
      "5\n",
      "6\n",
      "7\n",
      "8\n",
      "9\n",
      "0\n",
      "1\n",
      "2\n",
      "3\n",
      "4\n",
      "5\n",
      "6\n",
      "7\n",
      "8\n",
      "9\n"
     ]
    }
   ],
   "source": [
    "for i in range(1,10,1):\n",
    "    print(i)\n",
    "\n",
    "\n",
    "i=0;\n",
    "while i < 10:\n",
    "    print(i)\n",
    "    i+=1"
   ]
  },
  {
   "cell_type": "code",
   "execution_count": 63,
   "metadata": {},
   "outputs": [
    {
     "name": "stdout",
     "output_type": "stream",
     "text": [
      "012\n"
     ]
    },
    {
     "ename": "AttributeError",
     "evalue": "'str' object has no attribute 'append'",
     "output_type": "error",
     "traceback": [
      "\u001b[0;31m---------------------------------------------------------------------------\u001b[0m",
      "\u001b[0;31mAttributeError\u001b[0m                            Traceback (most recent call last)",
      "\u001b[0;32m<ipython-input-63-4edec5497558>\u001b[0m in \u001b[0;36m<module>\u001b[0;34m\u001b[0m\n\u001b[1;32m      2\u001b[0m \u001b[0mprint\u001b[0m\u001b[0;34m(\u001b[0m\u001b[0mstr\u001b[0m\u001b[0;34m[\u001b[0m\u001b[0;34m:\u001b[0m\u001b[0;36m3\u001b[0m\u001b[0;34m]\u001b[0m\u001b[0;34m)\u001b[0m\u001b[0;34m\u001b[0m\u001b[0;34m\u001b[0m\u001b[0m\n\u001b[1;32m      3\u001b[0m \u001b[0;34m\u001b[0m\u001b[0m\n\u001b[0;32m----> 4\u001b[0;31m \u001b[0mstr\u001b[0m\u001b[0;34m.\u001b[0m\u001b[0mappend\u001b[0m\u001b[0;34m(\u001b[0m\u001b[0;34m\"X\"\u001b[0m\u001b[0;34m)\u001b[0m\u001b[0;34m\u001b[0m\u001b[0;34m\u001b[0m\u001b[0m\n\u001b[0m\u001b[1;32m      5\u001b[0m \u001b[0mprint\u001b[0m\u001b[0;34m(\u001b[0m\u001b[0mstr\u001b[0m\u001b[0;34m)\u001b[0m\u001b[0;34m\u001b[0m\u001b[0;34m\u001b[0m\u001b[0m\n\u001b[1;32m      6\u001b[0m \u001b[0mnumbers\u001b[0m\u001b[0;34m=\u001b[0m\u001b[0;34m[\u001b[0m\u001b[0;36m1\u001b[0m\u001b[0;34m,\u001b[0m\u001b[0;36m2\u001b[0m\u001b[0;34m,\u001b[0m\u001b[0;36m3\u001b[0m\u001b[0;34m,\u001b[0m\u001b[0;36m4\u001b[0m\u001b[0;34m,\u001b[0m\u001b[0;36m5\u001b[0m\u001b[0;34m,\u001b[0m\u001b[0;36m6\u001b[0m\u001b[0;34m,\u001b[0m\u001b[0;36m7\u001b[0m\u001b[0;34m,\u001b[0m\u001b[0;36m8\u001b[0m\u001b[0;34m,\u001b[0m\u001b[0;36m9\u001b[0m\u001b[0;34m,\u001b[0m\u001b[0;36m10\u001b[0m\u001b[0;34m]\u001b[0m\u001b[0;34m\u001b[0m\u001b[0;34m\u001b[0m\u001b[0m\n",
      "\u001b[0;31mAttributeError\u001b[0m: 'str' object has no attribute 'append'"
     ]
    }
   ],
   "source": [
    "str = \"0123456789\"\n",
    "print(str[:3])\n",
    "\n",
    "str.append(\"X\")\n",
    "print(str)\n",
    "numbers=[1,2,3,4,5,6,7,8,9,10]\n",
    "numbers.append(11)\n",
    "print(numbers)\n",
    "\n",
    "if 1 in numbers:\n",
    "    print(\"1 is in numbers\")"
   ]
  },
  {
   "cell_type": "code",
   "execution_count": 12,
   "metadata": {},
   "outputs": [
    {
     "name": "stdout",
     "output_type": "stream",
     "text": [
      "[1, 2, 4, 5, 5]\n",
      "[1, 2, 4, 5, 5, 6]\n"
     ]
    }
   ],
   "source": [
    "\n",
    "\n",
    "\n",
    "\n",
    "\n",
    "# round a list of decimal numbers\n",
    "#nbs = [1.2, 2.5, 3.7, 4.6, 5.0]\n",
    "#nbs.append(6.0)\n",
    "#print([round(nb) for nb in nbs])\n",
    "\n",
    "# round a list of decimal numbers\n",
    "nbs = [1.2, 2.5, 3.7, 4.6, 5.0]\n",
    "nbs.append(6.0)\n",
    "print([round(nb) for nb in nbs])\n",
    "\n",
    "# use map to round a list of decimal numbers\n",
    "nbs = [1.2, 2.5, 3.7, 4.6, 5.0]\n",
    "nbs.append(6.0)\n",
    "\n",
    "\n",
    "\n",
    "#print([round(value) for value in [1.2, 2.5, 3.7, 4.6, 5.0]])\n",
    "\n",
    "\n",
    "#print(map(round, [1.2, 2.5, 3.7, 4.6, 5.0]))\n"
   ]
  },
  {
   "cell_type": "code",
   "execution_count": 108,
   "metadata": {},
   "outputs": [
    {
     "name": "stdout",
     "output_type": "stream",
     "text": [
      "Hello world\n",
      "10\n",
      "4\n",
      "Max: 5\n",
      "Min: 1\n",
      "Sum: 15\n",
      "Length: 5\n",
      "True\n",
      "False\n",
      "True\n",
      "False\n",
      "8\n",
      "## Create all the basic types\n",
      "True\n",
      "5\n",
      "5.0\n",
      "{1, 2, 3, 4, 5}\n",
      "(1, 2, 3, 4, 5, 5)\n"
     ]
    }
   ],
   "source": [
    "## Built in functions\n",
    "\n",
    "# Input and output\n",
    "# input(\"Input something: \")\n",
    "print(\"Hello world\")\n",
    "# open(file, mode='r', buffering=-1, encoding=None, errors=None, newline=None, closefd=True, opener=None)¶\n",
    "\n",
    "print(abs(-10))# absolute value\n",
    "print(pow(2,2))\n",
    "\n",
    "nbs=[1,2,3,4,5]\n",
    "print(f\"Max: {max(nbs)}\") # min(iterable, *, key=None)¶\n",
    "print(f\"Min: {min(nbs)}\")\n",
    "print(f\"Sum: {sum(nbs)}\")\n",
    "print(f\"Length: {len(nbs)}\")\n",
    "\n",
    "# boolean operations\n",
    "print(any([True, False, True]))\n",
    "print(any([False, False, False]))\n",
    "\n",
    "print(all([True, True, True]))\n",
    "print(all([False, True, False]))\n",
    "\n",
    "print(len(\"dfsdfdsf\"))\n",
    "# Return the length (the number of items) of an object.\n",
    "# The argument may be a sequence (such as a string, bytes, tuple, list, or range)\n",
    "# or a collection (such as a dictionary, set, or frozen set).\n",
    "\n",
    "# Create all the basic types\n",
    "print(\"## Create all the basic types\")\n",
    "print(bool(5))\n",
    "print(int(5.7))\n",
    "print(float(5))\n",
    "print(set([1,2,3,4,5,5]))\n",
    "print(tuple([1,2,3,4,5,5]))"
   ]
  },
  {
   "cell_type": "code",
   "execution_count": 79,
   "metadata": {},
   "outputs": [
    {
     "name": "stdout",
     "output_type": "stream",
     "text": [
      "Index SNP Ensembl ID Symbol ID gene_biotype FINEMAP priority gene SMR priority gene Rare priority gene\n",
      "812712510 ENSG00000231200 AC068490.2 lincRNA .\n",
      "\n",
      "rs6504163 ENSG00000159640 ACE protein_coding .\n",
      "rs7575796 ENSG00000115073 ACTR1B protein_coding .\n",
      "\n",
      "rs61833239 ENSG00000117020 AKT3 protein_coding .\n",
      "rs6546857 ENSG00000163016 ALMS1P pseudogene .\n",
      "rs9925915 ENSG00000174939 ASPHD1 protein_coding .\n",
      "rs12285419 ENSG00000175224 ATG13 protein_coding .\n",
      "rs4766428 ENSG00000174437 ATP2A2 protein_coding .\n",
      "\n",
      "rs1540840 ENSG00000127152 BCL11B protein_coding . .\n",
      "rs2304205 ENSG00000126453 BCL2L12 protein_coding .\n",
      "\n",
      "rs3808581 ENSG00000104765 BNIP3L protein_coding .\n",
      "\n",
      "rs2649999 ENSG00000157895 C12orf43 protein_coding .\n",
      "\n",
      "rs10774034 ENSG00000151067 CACNA1C protein_coding . .\n",
      "rs2944821 ENSG00000183166 CALN1 protein_coding .\n",
      "\n",
      "rs6839635 ENSG00000145354 CIsD2 protein_coding .\n",
      "rs61405217 ENSG00000109572 CLCN3 protein_coding .\n",
      "rs17194490 ENSG00000144619 CNTN4 protein_coding .\n",
      "\n",
      "rs10127983 ENSG00000143578 CREB3L4 protein_coding .\n",
      "rs2532240 ENSG00000120088 CRHR1 protein_coding .\n",
      "8:4180090_T_A ENSG00000183117 CSMD1 protein_coding .\n",
      "\n",
      "rs715170 ENSG00000206129 CTD-2008L17.2 lincRNA .\n",
      "\n",
      "rs113113059 ENSG00000112659 CuL9 protein_coding . .\n",
      "rs10957321 ENSG00000172817 CYP7B1 protein_coding .\n",
      "rs61828917 ENSG00000117593 DARS2 protein_coding .\n",
      "rs4632195 ENSG00000187323 DCC protein_coding .\n",
      "\n",
      "rs4678552 ENSG00000163673 DCLK3 protein_coding .\n",
      "rs7816998 ENSG00000085788 DDHD2 protein_coding .\n",
      "rs2600490 ENSG00000198010 DLGAP2 protein_coding .\n",
      "\n",
      "rs8048039 ENSG00000103423 DNAJA3 protein_coding .\n",
      "rs72728416 ENSG00000188641 DPYD protein_coding .\n",
      "\n",
      "rs8175378 ENSG00000170571 EMB protein_coding .\n",
      "rs999494 ENSG00000135638 EMX1 protein_coding .\n",
      "\n",
      "rs11619756 ENSG00000120658 ENOX1 protein_coding .\n",
      "\n",
      "rs959071 ENSG00000262319 ENSG00000262319 antisense .\n",
      "rs4073003 ENSG00000072134 EPN2 protein_coding .\n",
      "\n",
      "rs6925079 ENSG00000188107 EYS protein_coding .\n",
      "\n",
      "rs815609 ENSG00000055147 FAM114A2 protein_coding .\n",
      "rs4766428 ENSG00000204856 FAM216A protein_coding .\n",
      "rs1006945 ENSG00000101447 FAM83D protein_coding .\n",
      "rs58120505 ENSG00000122687 FTSJ2 protein_coding .\n",
      "rs4702 ENSG00000140564 FURIN protein_coding . .\n",
      "rs10985811 ENSG00000136928 GABBR2 protein_coding .\n",
      "\n",
      "rs1858999 ENSG00000167491 GATAD2A protein_coding .\n",
      "rs12498839 ENSG00000150625 GPM6A protein_coding .\n",
      "\n",
      "rs12188094 ENSG00000164199 GPR98 protein_coding .\n",
      "\n",
      "rs77502336 ENSG00000023171 GRAMD1B protein_coding .\n",
      "\n",
      "rs9926049 ENSG00000183454 GRIN2A protein_coding . .\n",
      "rs2206956 ENSG00000152822 GRM1 protein_coding .\n",
      "\n",
      "rs11210892 ENSG00000178922 HY! protein_coding .\n",
      "rs1378559 ENSG00000169306 IL1RAPL1 protein_coding L]\n",
      "\n",
      "rs38752 ENSG00000184903 IMMP2L protein_coding .\n",
      "\n",
      "rs3814883 ENSG00000169592 INOBOE protein_coding .\n",
      "rs2304205 ENSG00000126456 IRF3 protein_coding .\n",
      "\n",
      "rs2532240 ENSG00000120071 KANSL1 protein_coding . .\n",
      "rs10243922 ENSG00000122778 KIAA1549 protein_coding .\n",
      "\n",
      "rs17731 ENSG00000067082 KLF6 protein_coding .\n",
      "\n",
      "rs459391 ENSG00000224924 LINC00320 lincRNA . .\n",
      "rs9545047 ENSG00000227676 LINCO01068 lincRNA .\n",
      "rs28454198 ENSG00000249307 LINCO1088 antisense .\n",
      "\n",
      "rs2387414 ENSG00000131409 LRRC4B protein_coding .\n",
      "\n",
      "rs59498392 ENSG00000175324 LSM1 protein_coding .\n",
      "rs58120505 ENSG00000002822 MAD1L1 protein_coding .\n",
      "\n",
      "rs35164357 ENSG00000112893 MAN2A1 protein_coding .\n",
      "\n",
      "rs9925915 ENSG00000102882 MAPK3 protein_coding .\n",
      "rs2532240 ENSG00000186868 MAPT protein_coding .\n",
      "rs143116451 ENSG00000175727 MLXIP protein_coding .\n",
      "rs2914983 ENSG00000115540 MOB4 protein_coding .\n",
      "rs4793888 ENSG00000153944 MSI2 protein_coding .\n",
      "\n",
      "rs11263770 ENSG00000141140 MYO19 protein_coding .\n",
      "rs324017 ENSG00000166886 NAB2 protein_coding .\n",
      "\n",
      "rs9545047 ENSG00000102471 NDFIP2 protein_coding .\n",
      "rs2119242 ENSG00000078114 NEBL protein_coding .\n",
      "\n",
      "rs1121296 ENSG00000172260 NEGR1 protein_coding .\n",
      "\n",
      "rs5943629 ENSG00000146938 NLGN4X protein_coding .\n",
      "\n",
      "rs9975024 ENSG00000180530 NRIP1 protein_coding .\n",
      "\n",
      "rs11972718 ENSG00000122584 NXPH1 protein_coding .\n",
      "\n",
      "rs1939514 ENSG00000183715 OPCML protein_coding .\n",
      "\n",
      "rs56205728 ENSG00000137843 PAK6 protein_coding .\n",
      "\n",
      "rs7432375 ENSG00000114054 PCCB protein_coding .\n",
      "rs10069930 ENSG00000204969 PCDHA2 protein_coding .\n",
      "rs246024 ENSG00000204962 PCDHA8 protein_coding .\n",
      "rs35734242 ENSG00000185619 PCGF3 protein_coding .\n",
      "\n",
      "rs58950470 ENSG00000197136 PCNXL3 protein_coding .\n",
      "\n",
      "rs6588168 ENSG00000184588 PDE4B protein_coding .\n",
      "\n",
      "rs2929278 ENSG00000167004 PDIA3 protein_coding .\n",
      "rs34539323 ENSG00000181191 PJA1 protein_coding .\n",
      "\n",
      "rs6673880 ENSG00000149527 PLCH2 protein_coding .\n",
      "\n",
      "rs3813567 ENSG00000041357 PSMA4 protein_coding .\n",
      "rs2890914 ENSG00000153707 PTPRD protein_coding .\n",
      "\n",
      "rs61937595 ENSG00000179912 R3HDM2 protein_coding .\n",
      "\n",
      "rs11121172 ENSG00000142599 RERE protein_coding . .\n",
      "rs11227250 ENSG00000172922 RNASEH2C protein_coding .\n",
      "rs13107325 ENSG00000246560 RP11-10L12.4 antisense .\n",
      "rs6479487 ENSG00000227603 RP11-165J3.6 antisense .\n",
      "rs505061 ENSG00000234840 RP11-399D6.2 lincRNA .\n",
      "\n",
      "rs1198588 ENSG00000259946 RP11-490G2.2 lincRNA .\n",
      "rs35351411 ENSG00000259616 RP11-507B12.2 lincRNA .\n",
      "\n",
      "rs10035564 ENSG00000272335 RP11-53019.3 lincRNA .\n",
      "rs1915019 ENSG00000253553 RP11-586K2.1 antisense .\n",
      "rs10873538 ENSG00000256500 RP11-73M18.2 protein_coding .\n",
      "rs154433 ENSG00000103037 SETD6 protein_coding .\n",
      "rs2914983 ENSG00000115524 SF3B1 protein_coding .\n",
      "rs12652777 ENSG00000170624 SGCD protein_coding .\n",
      "\n",
      "rs13107325 ENSG00000138821 SLC39A8 protein_coding . .\n",
      "rs2909457 ENSG00000144290 SLC4A10 protein_coding .\n",
      "\n",
      "rs6839635 ENSG00000164037 SLcoB1 protein_coding .\n",
      "rs2022265 ENSG00000065609 SNAP91 protein_coding . .\n",
      "rs7811417 ENSG00000105866 SP4 protein_coding . .\n",
      "rs3810450 ENSG00000161277 THAP8 protein_coding .\n",
      "\n",
      "rs704364 ENSG00000163634 THOC7 protein_coding .\n",
      "rs7312697 ENSG00000133687 TMTC1 protein_coding .\n",
      "\n",
      "rs1924377 ENSG00000133107 TRPC4 protein_coding .\n",
      "\n",
      "rs13262595 ENSG00000171045 TSNARE1 protein_coding .\n",
      "\n",
      "rs10861176 ENSG00000198431 TXNRD1 protein_coding .\n",
      "\n",
      "rs10238960 ENSG00000185274 WBSCR17 protein_coding .\n",
      "\n",
      "rs2929278 ENSG00000092470 WDR76 protein_coding .\n",
      "rs3764002 ENSG00000075035 WSCD2 protein_coding .\n",
      "\n",
      "rs11693094 ENSG00000170396 ZNFB04A protein_coding .\n",
      "\n",
      "rs72986630 ENSG00000197933 ZNF823 protein_coding . .\n",
      "rs758749 ENSG00000127903 ZNF835 protein_coding .\n",
      "\n"
     ]
    }
   ],
   "source": [
    "file = open(\"/Users/timothyh/home/temp/export.txt\", \"r\")\n",
    "text = file.read()\n",
    "print(text)\n"
   ]
  },
  {
   "cell_type": "code",
   "execution_count": 92,
   "metadata": {},
   "outputs": [
    {
     "name": "stdout",
     "output_type": "stream",
     "text": [
      "Max: 5\n"
     ]
    },
    {
     "ename": "TypeError",
     "evalue": "'str' object is not callable",
     "output_type": "error",
     "traceback": [
      "\u001b[0;31m---------------------------------------------------------------------------\u001b[0m",
      "\u001b[0;31mTypeError\u001b[0m                                 Traceback (most recent call last)",
      "\u001b[0;32m<ipython-input-92-3818047e7471>\u001b[0m in \u001b[0;36m<module>\u001b[0;34m\u001b[0m\n\u001b[1;32m      2\u001b[0m \u001b[0mprint\u001b[0m\u001b[0;34m(\u001b[0m\u001b[0;34mf\"Max: {max(nbs)}\"\u001b[0m\u001b[0;34m)\u001b[0m\u001b[0;34m\u001b[0m\u001b[0;34m\u001b[0m\u001b[0m\n\u001b[1;32m      3\u001b[0m \u001b[0mnum\u001b[0m \u001b[0;34m=\u001b[0m \u001b[0;36m123\u001b[0m\u001b[0;34m\u001b[0m\u001b[0;34m\u001b[0m\u001b[0m\n\u001b[0;32m----> 4\u001b[0;31m \u001b[0mn\u001b[0m \u001b[0;34m=\u001b[0m \u001b[0mstr\u001b[0m\u001b[0;34m(\u001b[0m\u001b[0mnum\u001b[0m\u001b[0;34m)\u001b[0m\u001b[0;34m\u001b[0m\u001b[0;34m\u001b[0m\u001b[0m\n\u001b[0m\u001b[1;32m      5\u001b[0m \u001b[0mprint\u001b[0m\u001b[0;34m(\u001b[0m\u001b[0;34m\"Number: \"\u001b[0m \u001b[0;34m+\u001b[0m \u001b[0mn\u001b[0m\u001b[0;34m)\u001b[0m  \u001b[0;31m# Outputs: 'Number: 123'\u001b[0m\u001b[0;34m\u001b[0m\u001b[0;34m\u001b[0m\u001b[0m\n",
      "\u001b[0;31mTypeError\u001b[0m: 'str' object is not callable"
     ]
    }
   ],
   "source": [
    "nbs = [1, 2, 3, 4, 5]\n",
    "print(f\"Max: {max(nbs)}\")\n",
    "num = 123\n",
    "n = str(num)\n",
    "print(\"Number: \" + n)  # Outputs: 'Number: 123'\n"
   ]
  },
  {
   "cell_type": "code",
   "execution_count": 96,
   "metadata": {},
   "outputs": [
    {
     "name": "stdout",
     "output_type": "stream",
     "text": [
      "For only 49.00 dollars!\n",
      "For only 49.00 dollars!\n"
     ]
    }
   ],
   "source": [
    "price=49\n",
    "txt = f\"For only {price:.2f} dollars!\"\n",
    "print(txt)\n",
    "print(txt.format(price))"
   ]
  },
  {
   "cell_type": "code",
   "execution_count": 98,
   "metadata": {},
   "outputs": [
    {
     "name": "stdout",
     "output_type": "stream",
     "text": [
      "[4, 16, 36, 64, 100]\n"
     ]
    }
   ],
   "source": [
    "a = [1, 4, 9, 16, 25, 36, 49, 64, 81, 100]\n",
    "b = [x for x in a if x % 2 == 0]\n",
    "print(b)"
   ]
  },
  {
   "cell_type": "code",
   "execution_count": 116,
   "metadata": {},
   "outputs": [
    {
     "name": "stdout",
     "output_type": "stream",
     "text": [
      "[1, 1, 4, 9, 16, 25, 36, 49, 64, 81, 100, 9]\n",
      "{64, 1, 4, 36, 100, 9, 16, 49, 81, 25}\n",
      "{64, 1, 4, 36, 100, 9, 16, 49, 81, 25, 29}\n",
      "[1, 4, 9, 16, 25, 36, 49, 64, 81, 100]\n"
     ]
    }
   ],
   "source": [
    "a = [1,1, 4, 9, 16, 25, 36, 49, 64, 81, 100, 9]\n",
    "print(a)\n",
    "myset = set(a)\n",
    "print(myset)\n",
    "myset.add(29)\n",
    "print(myset)\n",
    "\n",
    "new_list = []\n",
    "for element in a:\n",
    "    if element not in new_list:\n",
    "        new_list.append(element)\n",
    "print(new_list)\n"
   ]
  },
  {
   "cell_type": "code",
   "execution_count": 126,
   "metadata": {},
   "outputs": [
    {
     "name": "stdout",
     "output_type": "stream",
     "text": [
      "[7, 14, 21, 28, 35, 42, 49, 56, 63, 70, 77, 84, 91, 98, 105, 112, 119, 126, 133, 140, 147, 154, 161, 168, 175, 182, 189, 196, 203, 210, 217, 224, 231, 238, 245, 252, 259, 266, 273, 280, 287, 294, 301, 308, 315, 322, 329, 336, 343, 350, 357, 364, 371, 378, 385, 392, 399, 406, 413, 420, 427, 434, 441, 448, 455, 462, 469, 476, 483, 490, 497, 504, 511, 518, 525, 532, 539, 546, 553, 560, 567, 574, 581, 588, 595, 602, 609, 616, 623, 630, 637, 644, 651, 658, 665, 672, 679, 686, 693, 700, 707, 714, 721, 728, 735, 742, 749, 756, 763, 770, 777, 784, 791, 798, 805, 812, 819, 826, 833, 840, 847, 854, 861, 868, 875, 882, 889, 896, 903, 910, 917, 924, 931, 938, 945, 952, 959, 966, 973, 980, 987, 994]\n",
      "7\n",
      "7\n",
      "61\n"
     ]
    }
   ],
   "source": [
    "print([x for x in range(1,1000) if x % 7 == 0])\n",
    "\n",
    "str = \"sdfsdf  sdf ds f sf s df\"\n",
    "print(str.count(\" \"))\n",
    "allSpaces = [x for x in str if x == \" \"]\n",
    "print(len(allSpaces))\n",
    "\n",
    "sentence = \"Yellow Yaks like yelling and yawning and yesturday they yodled while eating yuky yams\"\n",
    "consonants = [x for x in sentence if x not in \"aeiou\"]\n",
    "print(len(consonants))"
   ]
  },
  {
   "cell_type": "code",
   "execution_count": 130,
   "metadata": {},
   "outputs": [
    {
     "name": "stdout",
     "output_type": "stream",
     "text": [
      "['1', '9', '8', '4', '1', '3', '1', '0', '0', '0']\n",
      "['1', '9', '8', '4', '1', '3', '1', '0', '0', '0']\n",
      "['1984', '13', '1000']\n"
     ]
    }
   ],
   "source": [
    "# get only the numbers\n",
    "sentence = \"In 1984 there were 13 instances of a protest with over 1000 people attending\"\n",
    "numbers = [x for x in sentence if x.isnumeric()]\n",
    "print(numbers)\n",
    "nbs = [x for x in sentence if x in \"0123456789\"]\n",
    "print(nbs)\n",
    "\n",
    "\n",
    "nbs = [x for x in sentence.split(\" \") if x.isnumeric()]\n",
    "print(nbs)"
   ]
  },
  {
   "cell_type": "code",
   "execution_count": 131,
   "metadata": {},
   "outputs": [
    {
     "name": "stdout",
     "output_type": "stream",
     "text": [
      "['In', '13', 'of', 'a']\n"
     ]
    }
   ],
   "source": [
    "# Find all of the words in a string that are less than 4 letters\n",
    "\n",
    "sentence = \"In 1984 there were 13 instances of a protest with over 1000 people attending\"\n",
    "print([x for x in sentence.split(\" \") if len(x) < 4])"
   ]
  },
  {
   "cell_type": "code",
   "execution_count": 135,
   "metadata": {},
   "outputs": [
    {
     "name": "stdout",
     "output_type": "stream",
     "text": [
      "['mango', 'strawberry', 'guava', 'pineapple', 'mandarin orange']\n",
      "['strawberry', 'pineapple', 'mandarin orange']\n"
     ]
    }
   ],
   "source": [
    "fruits = ['mango', 'kiwi', 'strawberry', 'guava', 'pineapple', 'mandarin orange']\n",
    "\n",
    "numbers = [2, 3, 4, 5, 6, 7, 8, 9, 10, 11, 13, 17, 19, 23, 256, -8, -4, -2, 5, -9]\n",
    "\n",
    "print([x for x in fruits if \"a\" in x])\n",
    "\n",
    "print([x for x in fruits if len(x) > 5])"
   ]
  },
  {
   "cell_type": "code",
   "execution_count": 152,
   "metadata": {},
   "outputs": [
    {
     "name": "stdout",
     "output_type": "stream",
     "text": [
      "[1200, 1330, 1460, 1590, 1720, 1850, 1980]\n",
      "50\n",
      "60\n",
      "70\n",
      "80\n",
      "110\n",
      "{'NY': 'NY', 'FL': 'FL', 'CA': 'CA', 'VT': 'VT'}\n",
      "{100: 1.0, 110: 1.1, 120: 1.2, 130: 1.3, 140: 1.4, 150: 1.5}\n",
      "{'NFLX': 4950, 'TREX': 2400}\n",
      "{0: 0, 2: 4, 4: 16}\n"
     ]
    }
   ],
   "source": [
    "variable = 7\n",
    "str = f\"one {variable} two\"\n",
    "print([i for i in range(1200,2000, 130)])\n",
    "\n",
    "lst1=[44,54,64,74,104]\n",
    "for i in ([x+6 for x in lst1]):\n",
    "    print(i)\n",
    "\n",
    "lst=[\"NY\", \"FL\", \"CA\", \"VT\"]\n",
    "\n",
    "#Type your answer here.\n",
    "\n",
    "print({i:i for i in lst})\n",
    "\n",
    "\n",
    "print({x:x/100 for x in range(100, 160,10)})\n",
    "\n",
    "dict1={\"NFLX\":4950,\"TREX\":2400,\"FIZZ\":1800, \"XPO\":1700}\n",
    "\n",
    "dict2={ x:dict1[x] for x in dict1 if dict1[x] > 2000}\n",
    "\n",
    "\n",
    "print(dict2)\n",
    "\n",
    "gen = ((i, i**2) for i in range(5) if i % 2 == 0)\n",
    "print(dict(gen))\n"
   ]
  },
  {
   "cell_type": "code",
   "execution_count": 154,
   "metadata": {},
   "outputs": [
    {
     "ename": "TypeError",
     "evalue": "sequence item 0: expected str instance, int found",
     "output_type": "error",
     "traceback": [
      "\u001b[0;31m---------------------------------------------------------------------------\u001b[0m",
      "\u001b[0;31mTypeError\u001b[0m                                 Traceback (most recent call last)",
      "\u001b[0;32m<ipython-input-154-874fd22c4891>\u001b[0m in \u001b[0;36m<module>\u001b[0;34m\u001b[0m\n\u001b[0;32m----> 1\u001b[0;31m \u001b[0mprint\u001b[0m\u001b[0;34m(\u001b[0m\u001b[0;34m\",\"\u001b[0m\u001b[0;34m.\u001b[0m\u001b[0mjoin\u001b[0m\u001b[0;34m(\u001b[0m\u001b[0;34m[\u001b[0m\u001b[0mi\u001b[0m \u001b[0;32mfor\u001b[0m \u001b[0mi\u001b[0m \u001b[0;32min\u001b[0m \u001b[0mrange\u001b[0m\u001b[0;34m(\u001b[0m\u001b[0;36m2000\u001b[0m\u001b[0;34m,\u001b[0m \u001b[0;36m3201\u001b[0m\u001b[0;34m,\u001b[0m \u001b[0;36m1\u001b[0m\u001b[0;34m)\u001b[0m \u001b[0;32mif\u001b[0m \u001b[0mi\u001b[0m \u001b[0;34m%\u001b[0m \u001b[0;36m7\u001b[0m \u001b[0;34m==\u001b[0m \u001b[0;36m0\u001b[0m \u001b[0;32mand\u001b[0m \u001b[0mi\u001b[0m \u001b[0;34m%\u001b[0m \u001b[0;36m5\u001b[0m \u001b[0;34m!=\u001b[0m \u001b[0;36m0\u001b[0m\u001b[0;34m]\u001b[0m\u001b[0;34m)\u001b[0m\u001b[0;34m)\u001b[0m\u001b[0;34m\u001b[0m\u001b[0;34m\u001b[0m\u001b[0m\n\u001b[0m",
      "\u001b[0;31mTypeError\u001b[0m: sequence item 0: expected str instance, int found"
     ]
    }
   ],
   "source": [
    "print(\",\".join([i for i in range(2000, 3201, 1) if i % 7 == 0 and i % 5 != 0]))"
   ]
  },
  {
   "cell_type": "code",
   "execution_count": null,
   "metadata": {},
   "outputs": [],
   "source": [
    "# a function that computes a factorial\n",
    "def factorial(n):\n",
    "    if n == 0:\n",
    "        return 1\n",
    "    return n * factorial(n-1)"
   ]
  },
  {
   "cell_type": "code",
   "execution_count": null,
   "metadata": {},
   "outputs": [],
   "source": []
  },
  {
   "cell_type": "code",
   "execution_count": null,
   "metadata": {},
   "outputs": [
    {
     "name": "stdout",
     "output_type": "stream",
     "text": [
      "home\n",
      "usr\n",
      "bin\n",
      "sbin\n",
      ".file\n",
      "etc\n",
      "var\n",
      "Library\n",
      "System\n",
      ".VolumeIcon.icns\n",
      "private\n",
      ".vol\n",
      "Users\n",
      "Applications\n",
      "opt\n",
      "dev\n",
      "Volumes\n",
      "tmp\n",
      "cores\n",
      "['apple', 'banana', 'cherry', 'APPLE', 'BANANA', 'CHERRY', 'APPLE', 'BANANA', 'CHERRY']\n",
      "11\n",
      "12\n",
      "13\n"
     ]
    },
    {
     "data": {
      "text/plain": [
       "_io.TextIOWrapper"
      ]
     },
     "execution_count": 174,
     "metadata": {},
     "output_type": "execute_result"
    }
   ],
   "source": [
    "import os\n",
    "cwd = os.getcwd()\n",
    "# list the contents of the current directory\n",
    "contents = os.listdir(cwd)\n",
    "for content in contents:\n",
    "    print(content)\n",
    "\n",
    "\n",
    "\n",
    "words = [\"apple\", \"banana\", \"cherry\"]\n",
    "caps= tuple(map(lambda x: x.upper(), words))\n",
    "print(words + list(caps)*2)\n",
    "list(range(10))\n",
    "myfunction = lambda x: x + 10\n",
    "type(myfunction)\n",
    "\n",
    "functions=[lambda x: x + 1, lambda x: x + 2, lambda x: x + 3]\n",
    "for f in functions:\n",
    "    print(f(10))\n",
    "\n",
    "\n",
    "   \n",
    "something = open(\"/Users/timothyh/home/temp/export.txt\") \n",
    "type(something)\n"
   ]
  },
  {
   "cell_type": "code",
   "execution_count": null,
   "metadata": {},
   "outputs": [],
   "source": [
    "# a list of 10 words\n",
    "words = [\"apple\", \"banana\", \"cherry\", \"date\", \"elderberry\", \"fig\", \"grape\", \"honeydew\", \"imbe\", \"jackfruit\"]\n",
    "for words in words:\n",
    "    print(words)    "
   ]
  },
  {
   "cell_type": "code",
   "execution_count": 51,
   "metadata": {},
   "outputs": [
    {
     "name": "stdout",
     "output_type": "stream",
     "text": [
      "[3.88907633 5.17581016 4.26701589 4.08042692 5.86763763 5.33932727\n",
      " 3.31705002 3.00604585 5.70020983]\n"
     ]
    },
    {
     "data": {
      "text/plain": [
       "(array([0.01726154, 0.0794031 , 0.15017543, 0.24338777, 0.39011089,\n",
       "        0.35731396, 0.28136317, 0.14327081, 0.05178463, 0.01208308]),\n",
       " array([2.12368274, 2.70300519, 3.28232765, 3.8616501 , 4.44097256,\n",
       "        5.02029501, 5.59961747, 6.17893992, 6.75826238, 7.33758483,\n",
       "        7.91690729]),\n",
       " <BarContainer object of 10 artists>)"
      ]
     },
     "execution_count": 51,
     "metadata": {},
     "output_type": "execute_result"
    },
    {
     "data": {
      "image/png": "[encoded data removed]",
      "text/plain": [
       "<Figure size 432x288 with 1 Axes>"
      ]
     },
     "metadata": {
      "needs_background": "light"
     },
     "output_type": "display_data"
    }
   ],
   "source": [
    "# forstår stokastiske variabler: endlige og kontinuerlige\n",
    "\n",
    "import numpy as np\n",
    "import matplotlib.pyplot as plt\n",
    "\n",
    "\n",
    "# antall forsøk\n",
    "size = 1000\n",
    "\n",
    "#mynumbers = np.random.choice([1,2,3,4,5,6], size=size)\n",
    "#mynumbers = np.random.randint(1,7, size=size)\n",
    "mynumbers = np.random.normal(5, 1, size=size)\n",
    "#mynumbers = np.random.exponential(2, size=size)\n",
    "#mynumbers = np.random.uniform(1, 10, size=size)\n",
    "\n",
    "print(mynumbers[1:10])\n",
    "# make a plot of mynumbers\n",
    "\n",
    "\n",
    "\n",
    "\n",
    "\n",
    "#plt.hist(mynumbers,bins=10)\n",
    "# generate a frequency plot of mynumbers\n",
    "# plt.hist(mynumbers, bins=10, density=False)\n",
    "plt.hist(mynumbers, bins=10, density=True)\n",
    "#plt.show()\n",
    "\n",
    "\n"
   ]
  },
  {
   "cell_type": "code",
   "execution_count": 56,
   "metadata": {},
   "outputs": [
    {
     "name": "stdout",
     "output_type": "stream",
     "text": [
      "[5.713102153222874, 3.247716968716642, 2.0704903305805242, 2.340083205618869, 2.378391668855282, 1.5515173433491334, 3.369016046631277, 1.9395286883646048, 4.258039885556365, 5.865361869172567, 4.93937133788076, 1.9047642340666653, 4.49431751237301, 5.345159003907183, 2.3238339277935163, 4.645219003940648, 2.915216862594478, 4.211805512076651, 2.9676992791711716, 2.467989124714572]\n",
      "3.4474311979293395\n"
     ]
    }
   ],
   "source": [
    "marks = list()\n",
    "for skole in range(1,21):\n",
    "    skole = np.random.choice([\"A\", \"B\", \"C\"], size=1)    \n",
    "    if skole == \"A\":\n",
    "        mark = float(np.random.normal(3.8, 1.2, size=1))\n",
    "    if skole==\"B\":\n",
    "        mark = float(np.random.normal(3.4, 1.4, size=1))\n",
    "    if skole==\"C\":\n",
    "        mark = float(np.random.normal(3.4, 1.4, size=1))\n",
    "    marks.append(mark)\n",
    "print(marks)\n",
    "print(sum(marks)/len(marks))"
   ]
  },
  {
   "cell_type": "code",
   "execution_count": null,
   "metadata": {},
   "outputs": [],
   "source": [
    "# endelige stokastiske variabler ##########################\n",
    "\n",
    "# Med samme sannsynlighet\n",
    "# Alternativ1 - choice uten å spesifisere pk\n",
    "minetall = choice(range(1,7), size=size)\n",
    "# Alternativ2 - randint\n",
    "minetall = randint(1,6, size=size)\n",
    "\n",
    "# Med forskjellige sannsynligheter\n",
    "k=[1,2,3,4,5,6] # verdier\n",
    "pk=[1/6,1/6,1/6,1/6,1/6,1/6] # sannsynligheter\n",
    "minetall = choice(k=k, pk=pk, size=size)\n",
    "\n",
    "# binomisk\n",
    "antallDelforsøk = 100\n",
    "sannsynlighet = 0.7\n",
    "minetall = binomial(n=antallDelforsøk, p=sannsynlighet, size=size)\n",
    "\n",
    "# kontinuerlige stokastiske variabler ##########################\n",
    "\n",
    "# normalfordeling\n",
    "forventetVerdi = 5\n",
    "standardavvik = 1\n",
    "minetall = normal(forventetVerdi, standardavvik, size=size)\n",
    "\n",
    "# uniformfordeling\n",
    "min = 1\n",
    "max = 2\n",
    "minetall = uniform(min=min, max=max, size=size)\n",
    "\n",
    "# eksponentialfordeling\n",
    "scale = 2\n",
    "minetall = exponential(scale=scale, size=size)\n",
    "\n",
    "\n",
    "# Skrive ut tallene ##############################################\n",
    "for tall in minetall:\n",
    "    print(round(tall,2))\n",
    "\n",
    "# Plotte histogram ##############################################\n",
    "\n"
   ]
  },
  {
   "cell_type": "code",
   "execution_count": 36,
   "metadata": {},
   "outputs": [
    {
     "name": "stdout",
     "output_type": "stream",
     "text": [
      "2\n",
      "[1, 2, 3, 4, 5, 5.5, 6, 7, 8, 9, 10]\n",
      "\n",
      "xyc abz\n",
      "['stringly', 'df', 'goingly', 'someing']\n",
      "['stringly', 'df', 'goingly', 'someing']\n",
      "9876543210\n",
      "one two three four five 1.00 six seven eight nine ten\n"
     ]
    }
   ],
   "source": [
    "myString = \"google.com\"\n",
    "mydict = {}\n",
    "for i in myString:\n",
    "    mydict[i] = mydict.get(i, 0) + 1\n",
    "print(mydict['g'])\n",
    "\n",
    "# create a list\n",
    "mylist = [1, 2, 3, 4, 5, 6, 7, 8, 9, 10]\n",
    "# insert an item at a specific position in the list\n",
    "mylist.insert(5, 5.5)\n",
    "print(mylist)\n",
    "\n",
    "astring = \"w\"\n",
    "def somefunction(astring):\n",
    "    result = \"\"\n",
    "    if len(astring) >= 2:\n",
    "        result = astring[:2] + astring[-2:]\n",
    "    return result\n",
    "print(somefunction(astring))\n",
    "\n",
    "\n",
    "first = \"abc\"\n",
    "second = \"xyz\"\n",
    "\n",
    "def mixString(first, second):\n",
    "    result = second[0:2] + first[2:] + \" \" + first[0:2] + second[2:]\n",
    "    return result\n",
    "print(mixString(first, second))\n",
    "\n",
    "def dofunStuff(theString):\n",
    "    result = \"\"\n",
    "    if len(theString) >= 3:\n",
    "        if theString[-3:] == \"ing\":\n",
    "            result = theString + \"ly\"\n",
    "        else:\n",
    "            result = theString + \"ing\"\n",
    "    else:\n",
    "        result = theString\n",
    "    return result\n",
    "\n",
    "input = [\"string\",\"df\",\"going\", \"some\"]\n",
    "output = [dofunStuff(i) for i in input]\n",
    "print(output)\n",
    "\n",
    "\n",
    "print(list(map(dofunStuff, input)))\n",
    "\n",
    "\n",
    "stringy = \"0123456789\"\n",
    "print(stringy[::-1])\n",
    "\n",
    "\n",
    "# reverse a string\n",
    "def reverse_string(string):\n",
    "    \"\"\"\n",
    "    Reverses the given string.\n",
    "\n",
    "    Parameters:\n",
    "    string (str): The string to be reversed.\n",
    "\n",
    "    Returns:\n",
    "    str: The reversed string.\n",
    "    \"\"\"\n",
    "    return string[::-1]\n",
    "\n",
    "\n",
    "# replace all html tags in a string using the replace function and a regular expression\n",
    "import re\n",
    "def remove_html_tags(text):\n",
    "    \"\"\"\n",
    "    Removes all HTML tags from the given text.\n",
    "\n",
    "    Parameters:\n",
    "    text (str): The text to remove HTML tags from.\n",
    "\n",
    "    Returns:\n",
    "    str: The text with HTML tags removed.\n",
    "    \"\"\"\n",
    "    return re.sub(r'<.*?>', '', text)\n",
    "nb=1\n",
    "# number with two decimal places\n",
    "\n",
    "print(f\"one two three four five {nb:.2f} six seven eight nine ten\")\n",
    "  "
   ]
  }
 ],
 "metadata": {
  "kernelspec": {
   "display_name": "base",
   "language": "python",
   "name": "python3"
  },
  "language_info": {
   "codemirror_mode": {
    "name": "ipython",
    "version": 3
   },
   "file_extension": ".py",
   "mimetype": "text/x-python",
   "name": "python",
   "nbconvert_exporter": "python",
   "pygments_lexer": "ipython3",
   "version": "3.8.5"
  }
 },
 "nbformat": 4,
 "nbformat_minor": 2
}
